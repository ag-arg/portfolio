percent_with_race = round(demographics["pct_with_race"].iloc[1] * 100, 2)
percent_bipoc = round(demographics["pct_bipoc"].iloc[1] * 100, 2)

percent_with_class = round(demographics["pct_with_class"].iloc[1] * 100, 2)
percent_wc = round(demographics["pct_working_class_summary"].iloc[1] * 100, 2)

percent_with_gender = round(demographics["pct_with_gender"].iloc[1] * 100, 2)
percent_cis = round(demographics["pct_cis"].iloc[1] * 100, 2)
