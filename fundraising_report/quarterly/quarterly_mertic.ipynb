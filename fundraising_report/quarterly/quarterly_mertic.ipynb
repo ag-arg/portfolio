pct_quarter = round((donations_quarterly["total_amount"].iloc[3] / total_2021) * 100, 2)
