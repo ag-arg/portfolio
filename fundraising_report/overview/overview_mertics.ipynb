total_2021 = round(donation_year["total_amount"].iloc[4], 2)
total_2020 = round(donation_year["total_amount"].iloc[3], 2)
total_difference = round(total_2020 - total_2021, 2)
contributions_2021 = donation_year["total_contributions"].iloc[4]

pct_month = round((donation_month["total_amount"].iloc[11] / total_2021) * 100, 2)
