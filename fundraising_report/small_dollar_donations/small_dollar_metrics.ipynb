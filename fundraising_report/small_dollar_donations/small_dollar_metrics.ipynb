amount_small = round(donation_bucket["amount"].iloc[0], 2)
pct_small = round((amount_small / total_2021) * 100, 2)
